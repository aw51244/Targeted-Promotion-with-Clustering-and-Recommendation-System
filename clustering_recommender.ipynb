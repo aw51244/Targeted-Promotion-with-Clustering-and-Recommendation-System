{
 "cells": [
  {
   "cell_type": "markdown",
   "metadata": {
    "ExecuteTime": {
     "end_time": "2018-03-28T03:04:59.837595Z",
     "start_time": "2018-03-28T03:04:59.830082Z"
    }
   },
   "source": [
    "# 0. Import pacakges"
   ]
  },
  {
   "cell_type": "code",
   "execution_count": 1,
   "metadata": {
    "ExecuteTime": {
     "end_time": "2018-03-28T04:19:46.846937Z",
     "start_time": "2018-03-28T04:19:46.829327Z"
    },
    "collapsed": true
   },
   "outputs": [],
   "source": [
    "import numpy as np\n",
    "import pandas as pd\n",
    "from sklearn.preprocessing import MinMaxScaler, normalize, minmax_scale\n",
    "from sklearn.metrics.pairwise import pairwise_distances\n",
    "import scipy.sparse as sp\n",
    "from scipy.sparse.linalg import svds\n",
    "from sklearn.cluster import KMeans\n",
    "import matplotlib.pyplot as plt\n"
   ]
  },
  {
   "cell_type": "markdown",
   "metadata": {},
   "source": [
    "# 1. Load data"
   ]
  },
  {
   "cell_type": "markdown",
   "metadata": {},
   "source": [
    "**We think it's necessary to normalize the data we have. Usually recommender system applies for rating data which  is usually in (0,5) scale. See https://www.quora.com/How-do-I-build-a-recommendation-system-using-transaction-data-quantity-purchased-sales-How-do-I-convert-the-transaction-table-to-rating-table for reference **"
   ]
  },
  {
   "cell_type": "markdown",
   "metadata": {},
   "source": [
    "** The data manipulation part is in the R code**\n",
    "- *customer* is the customer-[sub]category table\n",
    "- *cat_list* contains name and ID of each category\n",
    "- *sub_list* contains name and ID of each subcategory"
   ]
  },
  {
   "cell_type": "code",
   "execution_count": 2,
   "metadata": {
    "collapsed": true
   },
   "outputs": [],
   "source": [
    "customer = pd.read_csv('sub_2017.csv')\n",
    "sub_list = pd.read_csv('subcategory_list.csv')\n",
    "cat_list = pd.read_csv('cat_list.csv')\n",
    "customer = customer.fillna(0)"
   ]
  },
  {
   "cell_type": "code",
   "execution_count": 3,
   "metadata": {
    "collapsed": true
   },
   "outputs": [],
   "source": [
    "customer_id = list(customer['cust_id'])\n"
   ]
  },
  {
   "cell_type": "markdown",
   "metadata": {},
   "source": [
    "** Only keep those customers with annual purchasing over 5000**"
   ]
  },
  {
   "cell_type": "code",
   "execution_count": 8,
   "metadata": {
    "collapsed": false
   },
   "outputs": [],
   "source": [
    "customer_5k = customer[customer['Sum_2017'] > 5000]"
   ]
  },
  {
   "cell_type": "code",
   "execution_count": 9,
   "metadata": {
    "collapsed": true
   },
   "outputs": [],
   "source": [
    "column_max = np.max(customer_5k)"
   ]
  },
  {
   "cell_type": "code",
   "execution_count": 10,
   "metadata": {
    "collapsed": true
   },
   "outputs": [],
   "source": [
    "customer_scaled = pd.DataFrame(minmax_scale(customer_5k,  feature_range=(0, 1),axis = 0))"
   ]
  },
  {
   "cell_type": "code",
   "execution_count": 11,
   "metadata": {
    "collapsed": true
   },
   "outputs": [],
   "source": [
    "customer_scaled.columns = customer.columns\n",
    "customer_scaled['cust_id'] = customer['cust_id']"
   ]
  },
  {
   "cell_type": "code",
   "execution_count": 12,
   "metadata": {
    "collapsed": false
   },
   "outputs": [],
   "source": [
    "customer_scaled.index = customer_5k.index"
   ]
  },
  {
   "cell_type": "code",
   "execution_count": 13,
   "metadata": {
    "collapsed": false
   },
   "outputs": [],
   "source": [
    "cat = customer_scaled.iloc[:,range(-431,-1)]\n",
    "subcat = customer_scaled.iloc[:,range(1,customer.shape[1]-431)]\n",
    "cat_original = customer_5k.iloc[:, range(-431, -1)]\n",
    "subcat_original = customer_5k.iloc[:,range(1, customer.shape[1]-431)]"
   ]
  },
  {
   "cell_type": "markdown",
   "metadata": {},
   "source": [
    "** Keep original indexes **"
   ]
  },
  {
   "cell_type": "code",
   "execution_count": 14,
   "metadata": {
    "collapsed": false
   },
   "outputs": [],
   "source": [
    "indexes = list(cat.columns)"
   ]
  },
  {
   "cell_type": "code",
   "execution_count": 15,
   "metadata": {
    "collapsed": false
   },
   "outputs": [],
   "source": [
    "for i in range(430):\n",
    "    if indexes[i] == 'Sum':\n",
    "        indexes[i] = 430\n",
    "    else:\n",
    "        if indexes[i] == 'i.Sum':\n",
    "            indexes[i] = 429\n",
    "        else:\n",
    "            indexes[i] = int(indexes[i].split('.')[2])\n",
    "cat.columns = indexes\n",
    "cat_original.columns = indexes\n"
   ]
  },
  {
   "cell_type": "code",
   "execution_count": 16,
   "metadata": {
    "collapsed": true
   },
   "outputs": [],
   "source": [
    "indexes = list(subcat.columns)"
   ]
  },
  {
   "cell_type": "code",
   "execution_count": 17,
   "metadata": {
    "collapsed": false
   },
   "outputs": [],
   "source": [
    "for i in range(1476):\n",
    "    if indexes[i] == 'SubSum':\n",
    "        indexes[i] = 1476\n",
    "    else:\n",
    "        if indexes[i] == 'i.SubSum':\n",
    "            indexes[i] = 1475\n",
    "        else:\n",
    "            indexes[i] = int(indexes[i].split('.')[2])\n",
    "subcat.columns = indexes\n",
    "subcat_original.columns = indexes"
   ]
  },
  {
   "cell_type": "markdown",
   "metadata": {},
   "source": [
    "# 2. Clustering based on categories"
   ]
  },
  {
   "cell_type": "markdown",
   "metadata": {},
   "source": [
    "## 2.0 KMeans "
   ]
  },
  {
   "cell_type": "code",
   "execution_count": 18,
   "metadata": {
    "collapsed": false
   },
   "outputs": [],
   "source": [
    "sse = {}"
   ]
  },
  {
   "cell_type": "code",
   "execution_count": 19,
   "metadata": {
    "collapsed": true
   },
   "outputs": [],
   "source": [
    "for k in range(1,11):\n",
    "    kmeans = KMeans(n_clusters = k, random_state = 0).fit(cat)\n",
    "    sse[k] = kmeans.inertia_"
   ]
  },
  {
   "cell_type": "code",
   "execution_count": 20,
   "metadata": {
    "collapsed": false
   },
   "outputs": [
    {
     "data": {
      "text/plain": [
       "<matplotlib.text.Text at 0x1171dd4e0>"
      ]
     },
     "execution_count": 20,
     "metadata": {},
     "output_type": "execute_result"
    }
   ],
   "source": [
    "plt.figure()\n",
    "plt.plot(list(sse.keys()), list(sse.values()))\n",
    "plt.xlabel(\"Number of cluster\")\n",
    "plt.ylabel(\"SSE\")"
   ]
  },
  {
   "cell_type": "code",
   "execution_count": 21,
   "metadata": {
    "collapsed": false
   },
   "outputs": [
    {
     "data": {
      "image/png": "[encoded data removed]",
      "text/plain": [
       "<matplotlib.figure.Figure at 0x117378ef0>"
      ]
     },
     "metadata": {},
     "output_type": "display_data"
    }
   ],
   "source": [
    "plt.show()"
   ]
  },
  {
   "cell_type": "markdown",
   "metadata": {},
   "source": [
    "** According to the elbow method, the best k for KMeans is 9 **"
   ]
  },
  {
   "cell_type": "code",
   "execution_count": 22,
   "metadata": {
    "collapsed": false
   },
   "outputs": [],
   "source": [
    "kmeans9 = KMeans(n_clusters = 9, random_state = 0).fit(cat)\n",
    "cluster9 = kmeans9.labels_ "
   ]
  },
  {
   "cell_type": "markdown",
   "metadata": {},
   "source": [
    "** The number of customers in each group is: **"
   ]
  },
  {
   "cell_type": "code",
   "execution_count": 23,
   "metadata": {
    "collapsed": false
   },
   "outputs": [
    {
     "data": {
      "text/plain": [
       "7    401\n",
       "0    273\n",
       "3    265\n",
       "1    221\n",
       "8    198\n",
       "2    196\n",
       "6    153\n",
       "5    121\n",
       "4     69\n",
       "dtype: int64"
      ]
     },
     "execution_count": 23,
     "metadata": {},
     "output_type": "execute_result"
    }
   ],
   "source": [
    "pd.Series(cluster9).value_counts()"
   ]
  },
  {
   "cell_type": "markdown",
   "metadata": {},
   "source": [
    "## 2.1 Take a look into each group -- top category in each group"
   ]
  },
  {
   "cell_type": "code",
   "execution_count": 24,
   "metadata": {
    "collapsed": false
   },
   "outputs": [
    {
     "name": "stderr",
     "output_type": "stream",
     "text": [
      "/Users/leoma/anaconda/lib/python3.5/site-packages/ipykernel/__main__.py:1: SettingWithCopyWarning: \n",
      "A value is trying to be set on a copy of a slice from a DataFrame.\n",
      "Try using .loc[row_indexer,col_indexer] = value instead\n",
      "\n",
      "See the caveats in the documentation: http://pandas.pydata.org/pandas-docs/stable/indexing.html#indexing-view-versus-copy\n",
      "  if __name__ == '__main__':\n"
     ]
    }
   ],
   "source": [
    "cat['category'] = cluster9"
   ]
  },
  {
   "cell_type": "markdown",
   "metadata": {},
   "source": [
    "** For each group, what are their top categories, comparing to the whole population? **"
   ]
  },
  {
   "cell_type": "code",
   "execution_count": 26,
   "metadata": {
    "collapsed": false
   },
   "outputs": [
    {
     "name": "stdout",
     "output_type": "stream",
     "text": [
      "For group 0\n",
      "145    GARLIC\n",
      "Name: category_desc_eng, dtype: object\n",
      "158    ONION\n",
      "Name: category_desc_eng, dtype: object\n",
      "135    BUTTER\n",
      "Name: category_desc_eng, dtype: object\n",
      "252    BAGS\n",
      "Name: category_desc_eng, dtype: object\n",
      "166    FRESH POULTRY MEAT\n",
      "Name: category_desc_eng, dtype: object\n",
      "202    CURRENT UHT MILK\n",
      "Name: category_desc_eng, dtype: object\n",
      "29    TOILET PAPER\n",
      "Name: category_desc_eng, dtype: object\n",
      "25    FINE WAFERS\n",
      "Name: category_desc_eng, dtype: object\n",
      "340    LETTUCE\n",
      "Name: category_desc_eng, dtype: object\n",
      "34    CANNED VEGETABLES\n",
      "Name: category_desc_eng, dtype: object\n",
      "For group 1\n",
      "25    FINE WAFERS\n",
      "Name: category_desc_eng, dtype: object\n",
      "53    BREAKFAST CEREALS\n",
      "Name: category_desc_eng, dtype: object\n",
      "21    PACKAGED BREAD\n",
      "Name: category_desc_eng, dtype: object\n",
      "46    FRUIT JUICES\n",
      "Name: category_desc_eng, dtype: object\n",
      "202    CURRENT UHT MILK\n",
      "Name: category_desc_eng, dtype: object\n",
      "2    YOGURT DRINK\n",
      "Name: category_desc_eng, dtype: object\n",
      "29    TOILET PAPER\n",
      "Name: category_desc_eng, dtype: object\n",
      "88    SHAMPOO\n",
      "Name: category_desc_eng, dtype: object\n",
      "1    YOGURT SPECIALTIES\n",
      "Name: category_desc_eng, dtype: object\n",
      "23    WASHING MACHINE DETERGENTS\n",
      "Name: category_desc_eng, dtype: object\n",
      "For group 2\n",
      "221    TOOTHBRUSHES AND WAXES\n",
      "Name: category_desc_eng, dtype: object\n",
      "45    SHOWER GEL\n",
      "Name: category_desc_eng, dtype: object\n",
      "29    TOILET PAPER\n",
      "Name: category_desc_eng, dtype: object\n",
      "74    TOOTHPASTE\n",
      "Name: category_desc_eng, dtype: object\n",
      "88    SHAMPOO\n",
      "Name: category_desc_eng, dtype: object\n",
      "23    WASHING MACHINE DETERGENTS\n",
      "Name: category_desc_eng, dtype: object\n",
      "252    BAGS\n",
      "Name: category_desc_eng, dtype: object\n",
      "75    PERSONAL DEODORISERS\n",
      "Name: category_desc_eng, dtype: object\n",
      "110    SANITARY TOWELS\n",
      "Name: category_desc_eng, dtype: object\n",
      "25    FINE WAFERS\n",
      "Name: category_desc_eng, dtype: object\n",
      "For group 3\n",
      "166    FRESH POULTRY MEAT\n",
      "Name: category_desc_eng, dtype: object\n",
      "89    FRESH PORK\n",
      "Name: category_desc_eng, dtype: object\n",
      "15    FROZEN FISH SERVICE\n",
      "Name: category_desc_eng, dtype: object\n",
      "16    FINE WINES\n",
      "Name: category_desc_eng, dtype: object\n",
      "252    BAGS\n",
      "Name: category_desc_eng, dtype: object\n",
      "202    CURRENT UHT MILK\n",
      "Name: category_desc_eng, dtype: object\n",
      "25    FINE WAFERS\n",
      "Name: category_desc_eng, dtype: object\n",
      "29    TOILET PAPER\n",
      "Name: category_desc_eng, dtype: object\n",
      "82    KITCHEN ROLLS\n",
      "Name: category_desc_eng, dtype: object\n",
      "312    SCRUBS\n",
      "Name: category_desc_eng, dtype: object\n",
      "For group 4\n",
      "196    AIR FRESHENERS ELECT\n",
      "Name: category_desc_eng, dtype: object\n",
      "76    FABRIC SOFTENERS\n",
      "Name: category_desc_eng, dtype: object\n",
      "25    FINE WAFERS\n",
      "Name: category_desc_eng, dtype: object\n",
      "23    WASHING MACHINE DETERGENTS\n",
      "Name: category_desc_eng, dtype: object\n",
      "39    LOTIC MACHINE DETERGENTS\n",
      "Name: category_desc_eng, dtype: object\n",
      "75    PERSONAL DEODORISERS\n",
      "Name: category_desc_eng, dtype: object\n",
      "29    TOILET PAPER\n",
      "Name: category_desc_eng, dtype: object\n",
      "252    BAGS\n",
      "Name: category_desc_eng, dtype: object\n",
      "97    ABRASIVES\n",
      "Name: category_desc_eng, dtype: object\n",
      "88    SHAMPOO\n",
      "Name: category_desc_eng, dtype: object\n",
      "For group 5\n",
      "192    DIAPERS\n",
      "Name: category_desc_eng, dtype: object\n",
      "30    OUT. BABY HYGIENE ITEMS\n",
      "Name: category_desc_eng, dtype: object\n",
      "3    YOGURT CHILD\n",
      "Name: category_desc_eng, dtype: object\n",
      "112    FOOD CHILDREN\n",
      "Name: category_desc_eng, dtype: object\n",
      "25    FINE WAFERS\n",
      "Name: category_desc_eng, dtype: object\n",
      "23    WASHING MACHINE DETERGENTS\n",
      "Name: category_desc_eng, dtype: object\n",
      "252    BAGS\n",
      "Name: category_desc_eng, dtype: object\n",
      "202    CURRENT UHT MILK\n",
      "Name: category_desc_eng, dtype: object\n",
      "2    YOGURT DRINK\n",
      "Name: category_desc_eng, dtype: object\n",
      "76    FABRIC SOFTENERS\n",
      "Name: category_desc_eng, dtype: object\n",
      "For group 6\n",
      "252    BAGS\n",
      "Name: category_desc_eng, dtype: object\n",
      "25    FINE WAFERS\n",
      "Name: category_desc_eng, dtype: object\n",
      "295    PAO MANUFACTURE\n",
      "Name: category_desc_eng, dtype: object\n",
      "21    PACKAGED BREAD\n",
      "Name: category_desc_eng, dtype: object\n",
      "222    POTATO\n",
      "Name: category_desc_eng, dtype: object\n",
      "29    TOILET PAPER\n",
      "Name: category_desc_eng, dtype: object\n",
      "2    YOGURT DRINK\n",
      "Name: category_desc_eng, dtype: object\n",
      "234    ICE TEA\n",
      "Name: category_desc_eng, dtype: object\n",
      "23    WASHING MACHINE DETERGENTS\n",
      "Name: category_desc_eng, dtype: object\n",
      "202    CURRENT UHT MILK\n",
      "Name: category_desc_eng, dtype: object\n",
      "For group 7\n",
      "23    WASHING MACHINE DETERGENTS\n",
      "Name: category_desc_eng, dtype: object\n",
      "25    FINE WAFERS\n",
      "Name: category_desc_eng, dtype: object\n",
      "29    TOILET PAPER\n",
      "Name: category_desc_eng, dtype: object\n",
      "88    SHAMPOO\n",
      "Name: category_desc_eng, dtype: object\n",
      "76    FABRIC SOFTENERS\n",
      "Name: category_desc_eng, dtype: object\n",
      "75    PERSONAL DEODORISERS\n",
      "Name: category_desc_eng, dtype: object\n",
      "202    CURRENT UHT MILK\n",
      "Name: category_desc_eng, dtype: object\n",
      "45    SHOWER GEL\n",
      "Name: category_desc_eng, dtype: object\n",
      "39    LOTIC MACHINE DETERGENTS\n",
      "Name: category_desc_eng, dtype: object\n",
      "82    KITCHEN ROLLS\n",
      "Name: category_desc_eng, dtype: object\n",
      "For group 8\n",
      "103    PEACH\n",
      "Name: category_desc_eng, dtype: object\n",
      "102    APPLE\n",
      "Name: category_desc_eng, dtype: object\n",
      "222    POTATO\n",
      "Name: category_desc_eng, dtype: object\n",
      "370    WAIT\n",
      "Name: category_desc_eng, dtype: object\n",
      "29    TOILET PAPER\n",
      "Name: category_desc_eng, dtype: object\n",
      "145    GARLIC\n",
      "Name: category_desc_eng, dtype: object\n",
      "158    ONION\n",
      "Name: category_desc_eng, dtype: object\n",
      "297    GREEN BEAN\n",
      "Name: category_desc_eng, dtype: object\n",
      "335    BANANA\n",
      "Name: category_desc_eng, dtype: object\n",
      "398    FRENCH GARLIC\n",
      "Name: category_desc_eng, dtype: object\n"
     ]
    }
   ],
   "source": [
    "for i in range(9):\n",
    "    cat_i = cat[cat['category'] == i]\n",
    "    print('For group %d'%(i))\n",
    "    top10 = pd.DataFrame(cat_i.sum(axis=0)).sort_values(by = 0, ascending = False).index[range(1,11)]\n",
    "    for j in list(top10):\n",
    "        print(cat_list[cat_list['id'] == j]['category_desc_eng'])"
   ]
  },
  {
   "cell_type": "markdown",
   "metadata": {},
   "source": [
    "# 3. Recommender for each group"
   ]
  },
  {
   "cell_type": "code",
   "execution_count": 27,
   "metadata": {
    "collapsed": false
   },
   "outputs": [
    {
     "name": "stderr",
     "output_type": "stream",
     "text": [
      "/Users/leoma/anaconda/lib/python3.5/site-packages/ipykernel/__main__.py:1: SettingWithCopyWarning: \n",
      "A value is trying to be set on a copy of a slice from a DataFrame.\n",
      "Try using .loc[row_indexer,col_indexer] = value instead\n",
      "\n",
      "See the caveats in the documentation: http://pandas.pydata.org/pandas-docs/stable/indexing.html#indexing-view-versus-copy\n",
      "  if __name__ == '__main__':\n",
      "/Users/leoma/anaconda/lib/python3.5/site-packages/ipykernel/__main__.py:2: SettingWithCopyWarning: \n",
      "A value is trying to be set on a copy of a slice from a DataFrame.\n",
      "Try using .loc[row_indexer,col_indexer] = value instead\n",
      "\n",
      "See the caveats in the documentation: http://pandas.pydata.org/pandas-docs/stable/indexing.html#indexing-view-versus-copy\n",
      "  from ipykernel import kernelapp as app\n"
     ]
    }
   ],
   "source": [
    "subcat_original['category'] = cluster9\n",
    "subcat['category'] = cluster9\n",
    "recommended_amount = pd.DataFrame()"
   ]
  },
  {
   "cell_type": "markdown",
   "metadata": {},
   "source": [
    "** Use the SVD approach for recommender system**"
   ]
  },
  {
   "cell_type": "code",
   "execution_count": 28,
   "metadata": {
    "collapsed": false
   },
   "outputs": [],
   "source": [
    "for i in range(9):\n",
    "    subcat_i = subcat[subcat['category'] == i]\n",
    "    subcat_i = subcat_i.iloc[:,0:1476]\n",
    "    subcat_original_i = subcat_original[subcat_original['category'] == i]\n",
    "    subcat_original_i = subcat_original_i.iloc[:,0:1476]\n",
    "    u, s, vt = svds(subcat_i, k = 20)\n",
    "    s_diag_matrix = np.diag(s)\n",
    "    X_pred = pd.DataFrame(np.dot(np.dot(u, s_diag_matrix), vt))\n",
    "    for j in range(X_pred.shape[1]):\n",
    "        X_pred.iloc[:,j] = X_pred.iloc[:,j] * column_max[j + 1]\n",
    "    X_pred.columns = subcat_i.columns\n",
    "    X_pred.index = subcat_i.index\n",
    "    recommended_amount = recommended_amount.append(X_pred - subcat_original_i)"
   ]
  },
  {
   "cell_type": "code",
   "execution_count": 29,
   "metadata": {
    "collapsed": false
   },
   "outputs": [],
   "source": [
    "recommended_amount = recommended_amount.sort_index()"
   ]
  },
  {
   "cell_type": "code",
   "execution_count": 80,
   "metadata": {
    "collapsed": true
   },
   "outputs": [],
   "source": [
    "recommended_sub = pd.DataFrame()"
   ]
  },
  {
   "cell_type": "markdown",
   "metadata": {},
   "source": [
    "** For each customer, recommend FIVE subcategories depending on gap of predicted amount and their actual spending **"
   ]
  },
  {
   "cell_type": "code",
   "execution_count": 81,
   "metadata": {
    "collapsed": false
   },
   "outputs": [],
   "source": [
    "for i in range(recommended_amount.shape[0]):\n",
    "    recommended_sub[recommended_amount.index[i]] = list(pd.DataFrame(recommended_amount.iloc[i,:]).sort_values(by = recommended_amount.index[i]).index[[-10,-9,-8,-7,-6,-5,-4,-3,-2,-1]].T)"
   ]
  },
  {
   "cell_type": "code",
   "execution_count": 82,
   "metadata": {
    "collapsed": false
   },
   "outputs": [
    {
     "data": {
      "text/html": [
       "<div>\n",
       "<style>\n",
       "    .dataframe thead tr:only-child th {\n",
       "        text-align: right;\n",
       "    }\n",
       "\n",
       "    .dataframe thead th {\n",
       "        text-align: left;\n",
       "    }\n",
       "\n",
       "    .dataframe tbody tr th {\n",
       "        vertical-align: top;\n",
       "    }\n",
       "</style>\n",
       "<table border=\"1\" class=\"dataframe\">\n",
       "  <thead>\n",
       "    <tr style=\"text-align: right;\">\n",
       "      <th></th>\n",
       "      <th>0</th>\n",
       "      <th>1</th>\n",
       "      <th>3</th>\n",
       "      <th>5</th>\n",
       "      <th>16</th>\n",
       "      <th>17</th>\n",
       "      <th>19</th>\n",
       "      <th>20</th>\n",
       "      <th>36</th>\n",
       "      <th>37</th>\n",
       "      <th>...</th>\n",
       "      <th>7884</th>\n",
       "      <th>7885</th>\n",
       "      <th>7886</th>\n",
       "      <th>7888</th>\n",
       "      <th>7894</th>\n",
       "      <th>7906</th>\n",
       "      <th>7910</th>\n",
       "      <th>7911</th>\n",
       "      <th>7913</th>\n",
       "      <th>7914</th>\n",
       "    </tr>\n",
       "  </thead>\n",
       "  <tbody>\n",
       "    <tr>\n",
       "      <th>0</th>\n",
       "      <td>22</td>\n",
       "      <td>37</td>\n",
       "      <td>160</td>\n",
       "      <td>85</td>\n",
       "      <td>200</td>\n",
       "      <td>200</td>\n",
       "      <td>1020</td>\n",
       "      <td>153</td>\n",
       "      <td>349</td>\n",
       "      <td>2</td>\n",
       "      <td>...</td>\n",
       "      <td>195</td>\n",
       "      <td>160</td>\n",
       "      <td>461</td>\n",
       "      <td>369</td>\n",
       "      <td>29</td>\n",
       "      <td>280</td>\n",
       "      <td>1173</td>\n",
       "      <td>414</td>\n",
       "      <td>280</td>\n",
       "      <td>161</td>\n",
       "    </tr>\n",
       "    <tr>\n",
       "      <th>1</th>\n",
       "      <td>102</td>\n",
       "      <td>43</td>\n",
       "      <td>28</td>\n",
       "      <td>126</td>\n",
       "      <td>399</td>\n",
       "      <td>1347</td>\n",
       "      <td>126</td>\n",
       "      <td>30</td>\n",
       "      <td>577</td>\n",
       "      <td>78</td>\n",
       "      <td>...</td>\n",
       "      <td>280</td>\n",
       "      <td>22</td>\n",
       "      <td>392</td>\n",
       "      <td>153</td>\n",
       "      <td>126</td>\n",
       "      <td>28</td>\n",
       "      <td>586</td>\n",
       "      <td>64</td>\n",
       "      <td>200</td>\n",
       "      <td>394</td>\n",
       "    </tr>\n",
       "    <tr>\n",
       "      <th>2</th>\n",
       "      <td>220</td>\n",
       "      <td>532</td>\n",
       "      <td>245</td>\n",
       "      <td>1020</td>\n",
       "      <td>369</td>\n",
       "      <td>870</td>\n",
       "      <td>30</td>\n",
       "      <td>884</td>\n",
       "      <td>179</td>\n",
       "      <td>5</td>\n",
       "      <td>...</td>\n",
       "      <td>220</td>\n",
       "      <td>5</td>\n",
       "      <td>162</td>\n",
       "      <td>152</td>\n",
       "      <td>28</td>\n",
       "      <td>30</td>\n",
       "      <td>573</td>\n",
       "      <td>148</td>\n",
       "      <td>1020</td>\n",
       "      <td>160</td>\n",
       "    </tr>\n",
       "    <tr>\n",
       "      <th>3</th>\n",
       "      <td>39</td>\n",
       "      <td>841</td>\n",
       "      <td>153</td>\n",
       "      <td>838</td>\n",
       "      <td>161</td>\n",
       "      <td>107</td>\n",
       "      <td>884</td>\n",
       "      <td>179</td>\n",
       "      <td>537</td>\n",
       "      <td>369</td>\n",
       "      <td>...</td>\n",
       "      <td>245</td>\n",
       "      <td>112</td>\n",
       "      <td>1327</td>\n",
       "      <td>150</td>\n",
       "      <td>396</td>\n",
       "      <td>537</td>\n",
       "      <td>126</td>\n",
       "      <td>98</td>\n",
       "      <td>160</td>\n",
       "      <td>98</td>\n",
       "    </tr>\n",
       "    <tr>\n",
       "      <th>4</th>\n",
       "      <td>153</td>\n",
       "      <td>280</td>\n",
       "      <td>577</td>\n",
       "      <td>545</td>\n",
       "      <td>414</td>\n",
       "      <td>1230</td>\n",
       "      <td>39</td>\n",
       "      <td>392</td>\n",
       "      <td>5</td>\n",
       "      <td>870</td>\n",
       "      <td>...</td>\n",
       "      <td>85</td>\n",
       "      <td>102</td>\n",
       "      <td>1448</td>\n",
       "      <td>838</td>\n",
       "      <td>133</td>\n",
       "      <td>220</td>\n",
       "      <td>162</td>\n",
       "      <td>30</td>\n",
       "      <td>30</td>\n",
       "      <td>39</td>\n",
       "    </tr>\n",
       "    <tr>\n",
       "      <th>5</th>\n",
       "      <td>5</td>\n",
       "      <td>98</td>\n",
       "      <td>461</td>\n",
       "      <td>399</td>\n",
       "      <td>162</td>\n",
       "      <td>1020</td>\n",
       "      <td>43</td>\n",
       "      <td>32</td>\n",
       "      <td>85</td>\n",
       "      <td>61</td>\n",
       "      <td>...</td>\n",
       "      <td>161</td>\n",
       "      <td>28</td>\n",
       "      <td>43</td>\n",
       "      <td>30</td>\n",
       "      <td>1173</td>\n",
       "      <td>414</td>\n",
       "      <td>245</td>\n",
       "      <td>280</td>\n",
       "      <td>884</td>\n",
       "      <td>37</td>\n",
       "    </tr>\n",
       "    <tr>\n",
       "      <th>6</th>\n",
       "      <td>884</td>\n",
       "      <td>143</td>\n",
       "      <td>29</td>\n",
       "      <td>537</td>\n",
       "      <td>884</td>\n",
       "      <td>280</td>\n",
       "      <td>29</td>\n",
       "      <td>844</td>\n",
       "      <td>126</td>\n",
       "      <td>29</td>\n",
       "      <td>...</td>\n",
       "      <td>367</td>\n",
       "      <td>220</td>\n",
       "      <td>30</td>\n",
       "      <td>2</td>\n",
       "      <td>1016</td>\n",
       "      <td>245</td>\n",
       "      <td>461</td>\n",
       "      <td>5</td>\n",
       "      <td>32</td>\n",
       "      <td>179</td>\n",
       "    </tr>\n",
       "    <tr>\n",
       "      <th>7</th>\n",
       "      <td>30</td>\n",
       "      <td>396</td>\n",
       "      <td>30</td>\n",
       "      <td>178</td>\n",
       "      <td>844</td>\n",
       "      <td>857</td>\n",
       "      <td>537</td>\n",
       "      <td>399</td>\n",
       "      <td>1188</td>\n",
       "      <td>884</td>\n",
       "      <td>...</td>\n",
       "      <td>1020</td>\n",
       "      <td>85</td>\n",
       "      <td>214</td>\n",
       "      <td>5</td>\n",
       "      <td>280</td>\n",
       "      <td>32</td>\n",
       "      <td>392</td>\n",
       "      <td>537</td>\n",
       "      <td>545</td>\n",
       "      <td>153</td>\n",
       "    </tr>\n",
       "    <tr>\n",
       "      <th>8</th>\n",
       "      <td>461</td>\n",
       "      <td>28</td>\n",
       "      <td>107</td>\n",
       "      <td>150</td>\n",
       "      <td>107</td>\n",
       "      <td>884</td>\n",
       "      <td>85</td>\n",
       "      <td>162</td>\n",
       "      <td>30</td>\n",
       "      <td>245</td>\n",
       "      <td>...</td>\n",
       "      <td>537</td>\n",
       "      <td>107</td>\n",
       "      <td>153</td>\n",
       "      <td>39</td>\n",
       "      <td>32</td>\n",
       "      <td>85</td>\n",
       "      <td>39</td>\n",
       "      <td>126</td>\n",
       "      <td>22</td>\n",
       "      <td>198</td>\n",
       "    </tr>\n",
       "    <tr>\n",
       "      <th>9</th>\n",
       "      <td>107</td>\n",
       "      <td>107</td>\n",
       "      <td>85</td>\n",
       "      <td>421</td>\n",
       "      <td>245</td>\n",
       "      <td>414</td>\n",
       "      <td>107</td>\n",
       "      <td>107</td>\n",
       "      <td>107</td>\n",
       "      <td>32</td>\n",
       "      <td>...</td>\n",
       "      <td>32</td>\n",
       "      <td>32</td>\n",
       "      <td>844</td>\n",
       "      <td>399</td>\n",
       "      <td>179</td>\n",
       "      <td>844</td>\n",
       "      <td>884</td>\n",
       "      <td>32</td>\n",
       "      <td>85</td>\n",
       "      <td>32</td>\n",
       "    </tr>\n",
       "  </tbody>\n",
       "</table>\n",
       "<p>10 rows × 1897 columns</p>\n",
       "</div>"
      ],
      "text/plain": [
       "   0     1     3     5     16    17    19    20    36    37    ...   7884  \\\n",
       "0    22    37   160    85   200   200  1020   153   349     2  ...    195   \n",
       "1   102    43    28   126   399  1347   126    30   577    78  ...    280   \n",
       "2   220   532   245  1020   369   870    30   884   179     5  ...    220   \n",
       "3    39   841   153   838   161   107   884   179   537   369  ...    245   \n",
       "4   153   280   577   545   414  1230    39   392     5   870  ...     85   \n",
       "5     5    98   461   399   162  1020    43    32    85    61  ...    161   \n",
       "6   884   143    29   537   884   280    29   844   126    29  ...    367   \n",
       "7    30   396    30   178   844   857   537   399  1188   884  ...   1020   \n",
       "8   461    28   107   150   107   884    85   162    30   245  ...    537   \n",
       "9   107   107    85   421   245   414   107   107   107    32  ...     32   \n",
       "\n",
       "   7885  7886  7888  7894  7906  7910  7911  7913  7914  \n",
       "0   160   461   369    29   280  1173   414   280   161  \n",
       "1    22   392   153   126    28   586    64   200   394  \n",
       "2     5   162   152    28    30   573   148  1020   160  \n",
       "3   112  1327   150   396   537   126    98   160    98  \n",
       "4   102  1448   838   133   220   162    30    30    39  \n",
       "5    28    43    30  1173   414   245   280   884    37  \n",
       "6   220    30     2  1016   245   461     5    32   179  \n",
       "7    85   214     5   280    32   392   537   545   153  \n",
       "8   107   153    39    32    85    39   126    22   198  \n",
       "9    32   844   399   179   844   884    32    85    32  \n",
       "\n",
       "[10 rows x 1897 columns]"
      ]
     },
     "execution_count": 82,
     "metadata": {},
     "output_type": "execute_result"
    }
   ],
   "source": [
    "recommended_sub"
   ]
  },
  {
   "cell_type": "code",
   "execution_count": 83,
   "metadata": {
    "collapsed": true
   },
   "outputs": [],
   "source": [
    "recommended_for_customer = recommended_sub.T"
   ]
  },
  {
   "cell_type": "code",
   "execution_count": 84,
   "metadata": {
    "collapsed": false
   },
   "outputs": [],
   "source": [
    "recommended_for_customer['no'] = pd.Series(customer_id)[recommended_for_customer.index]"
   ]
  },
  {
   "cell_type": "code",
   "execution_count": 85,
   "metadata": {
    "collapsed": false
   },
   "outputs": [],
   "source": [
    "recommended_for_customer.to_csv('recommended_for_customer.csv', index = True)"
   ]
  },
  {
   "cell_type": "code",
   "execution_count": 86,
   "metadata": {
    "collapsed": false
   },
   "outputs": [],
   "source": [
    "recommended_sub_array = recommended_sub.as_matrix().reshape(-1,1)"
   ]
  },
  {
   "cell_type": "markdown",
   "metadata": {},
   "source": [
    "** Count the most common subcategories **"
   ]
  },
  {
   "cell_type": "code",
   "execution_count": 87,
   "metadata": {
    "collapsed": false
   },
   "outputs": [],
   "source": [
    "recommended_list = pd.DataFrame(pd.DataFrame(recommended_sub_array)[0].value_counts())"
   ]
  },
  {
   "cell_type": "code",
   "execution_count": 88,
   "metadata": {
    "collapsed": true
   },
   "outputs": [],
   "source": [
    "recommended_list['name'] = sub_list.iloc[recommended_list.index,1]"
   ]
  },
  {
   "cell_type": "code",
   "execution_count": 89,
   "metadata": {
    "collapsed": false
   },
   "outputs": [],
   "source": [
    "recommended_list['id'] = sub_list.iloc[recommended_list.index,0]"
   ]
  },
  {
   "cell_type": "code",
   "execution_count": 90,
   "metadata": {
    "collapsed": false
   },
   "outputs": [],
   "source": [
    "recommended_list.columns = ['count', 'name', 'id']"
   ]
  },
  {
   "cell_type": "code",
   "execution_count": 91,
   "metadata": {
    "collapsed": false
   },
   "outputs": [],
   "source": [
    "recommended_list.to_csv('recommended_sub_list.csv')"
   ]
  },
  {
   "cell_type": "markdown",
   "metadata": {},
   "source": [
    "*Following analysis is in Microsoft Excel*"
   ]
  }
 ],
 "metadata": {
  "anaconda-cloud": {},
  "kernelspec": {
   "display_name": "Python [default]",
   "language": "python",
   "name": "python3"
  },
  "language_info": {
   "codemirror_mode": {
    "name": "ipython",
    "version": 3
   },
   "file_extension": ".py",
   "mimetype": "text/x-python",
   "name": "python",
   "nbconvert_exporter": "python",
   "pygments_lexer": "ipython3",
   "version": "3.5.2"
  }
 },
 "nbformat": 4,
 "nbformat_minor": 2
}
